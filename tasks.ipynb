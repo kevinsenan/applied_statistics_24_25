{
 "cells": [
  {
   "cell_type": "markdown",
   "metadata": {},
   "source": [
    "Task1\n",
    "\n",
    "Lady Tasting Tea\n",
    "\n",
    "An event in Fisher's life led him to design this experiment, His friend's future wife, Muriel Bristol, said that she could tell if the tea or the milk was put first into a cup. She was given eight cups, four of created each way and in random order. Fisher wanted to find the probability that she could say the order of addition to the cup. In the end, Muriel correctly identified which of the four cups of tea had milk poured before the tea.\n"
   ]
  }
 ],
 "metadata": {
  "language_info": {
   "name": "python"
  }
 },
 "nbformat": 4,
 "nbformat_minor": 2
}
